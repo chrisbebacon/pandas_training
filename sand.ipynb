{
 "cells": [
  {
   "cell_type": "code",
   "execution_count": 1,
   "metadata": {},
   "outputs": [],
   "source": [
    "import pandas as pd"
   ]
  },
  {
   "cell_type": "code",
   "execution_count": 3,
   "metadata": {},
   "outputs": [
    {
     "data": {
      "text/plain": [
       "DatetimeIndex(['2024-01-01', '2024-02-01', '2024-03-01'], dtype='datetime64[ns]', freq=None)"
      ]
     },
     "execution_count": 3,
     "metadata": {},
     "output_type": "execute_result"
    }
   ],
   "source": [
    "date_strings = ['2024-01-01', '2024-02-01', '2024-03-01']\n",
    "dates = pd.to_datetime(date_strings)\n",
    "dates"
   ]
  },
  {
   "cell_type": "code",
   "execution_count": 4,
   "metadata": {},
   "outputs": [
    {
     "name": "stdout",
     "output_type": "stream",
     "text": [
      "5 days 00:00:00\n",
      "7 days 00:00:00\n"
     ]
    }
   ],
   "source": [
    "delta = pd.Timedelta(days=5)\n",
    "print(delta)\n",
    "\n",
    "# Example: Calculating differences between two dates\n",
    "diff = pd.Timestamp('2024-01-01') - pd.Timestamp('2023-12-25')\n",
    "print(diff)\n"
   ]
  },
  {
   "cell_type": "code",
   "execution_count": 5,
   "metadata": {},
   "outputs": [
    {
     "name": "stdout",
     "output_type": "stream",
     "text": [
      "2024-01\n"
     ]
    }
   ],
   "source": [
    "# Example: Creating a period for a single month\n",
    "period = pd.Period('2024-01', freq='M')\n",
    "print(period)\n"
   ]
  },
  {
   "cell_type": "code",
   "execution_count": 9,
   "metadata": {},
   "outputs": [
    {
     "name": "stdout",
     "output_type": "stream",
     "text": [
      "Empty DataFrame\n",
      "Columns: [value]\n",
      "Index: []\n"
     ]
    }
   ],
   "source": [
    "# Example: Creating a DataFrame with a DatetimeIndex\n",
    "date_range = pd.date_range(start='2024-01-01', periods=10, freq='D')\n",
    "df = pd.DataFrame({'value': range(10)}, index=date_range)\n",
    "\n",
    "print(df['2024-01-08':'2024-01-07'])\n",
    "\n",
    "\n",
    "\n",
    "\n"
   ]
  },
  {
   "cell_type": "code",
   "execution_count": 15,
   "metadata": {},
   "outputs": [
    {
     "data": {
      "text/plain": [
       "value    float64\n",
       "dtype: object"
      ]
     },
     "execution_count": 15,
     "metadata": {},
     "output_type": "execute_result"
    }
   ],
   "source": [
    "df1 = pd.DataFrame({'value': range(5)}, index=pd.date_range('2024-01-01', periods=5))\n",
    "df2 = pd.DataFrame({'value': range(5, 10)}, index=pd.date_range('2024-01-03', periods=5))\n",
    "\n",
    "aligned_sum = df1 + df2\n",
    "\n"
   ]
  },
  {
   "cell_type": "code",
   "execution_count": 16,
   "metadata": {},
   "outputs": [
    {
     "name": "stdout",
     "output_type": "stream",
     "text": [
      "            timestamp  value  group\n",
      "0 2024-01-01 00:00:00     10      0\n",
      "1 2024-01-01 00:30:00     20      0\n",
      "2 2024-01-01 02:00:00     30      1\n",
      "3 2024-01-01 02:15:00     40      1\n",
      "4 2024-01-01 05:00:00     50      2\n"
     ]
    },
    {
     "name": "stderr",
     "output_type": "stream",
     "text": [
      "/var/folders/rz/sgm05zns3nbc3xz2jc3bg2rw0000gn/T/ipykernel_92188/1341278447.py:31: FutureWarning: 'H' is deprecated and will be removed in a future version. Please use 'h' instead of 'H'.\n",
      "  if time_diff > pd.Timedelta(time_threshold):\n"
     ]
    }
   ],
   "source": [
    "import pandas as pd\n",
    "\n",
    "def group_by_time_proximity(df, time_column, time_threshold='1H'):\n",
    "    \"\"\"\n",
    "    Groups data by proximity in time. Consecutive rows within the specified time threshold are grouped together.\n",
    "    \n",
    "    Parameters:\n",
    "    - df: Pandas DataFrame containing the data.\n",
    "    - time_column: The name of the column with the time information.\n",
    "    - time_threshold: The time threshold to define proximity (default '1H' for 1 hour).\n",
    "    \n",
    "    Returns:\n",
    "    A new DataFrame with an additional 'group' column indicating the group ID.\n",
    "    \"\"\"\n",
    "    # Convert the time column to datetime if it's not already\n",
    "    df[time_column] = pd.to_datetime(df[time_column])\n",
    "\n",
    "    # Sort the DataFrame by the time column (important for grouping consecutive close times)\n",
    "    df = df.sort_values(by=time_column).reset_index(drop=True)\n",
    "\n",
    "    # Initialize group counter and the list to hold group assignments\n",
    "    group_id = 0\n",
    "    group_labels = [group_id]\n",
    "\n",
    "    # Iterate over rows and assign group ids based on proximity\n",
    "    for i in range(1, len(df)):\n",
    "        # Calculate the time difference between the current and previous row\n",
    "        time_diff = df[time_column].iloc[i] - df[time_column].iloc[i - 1]\n",
    "\n",
    "        # If the time difference exceeds the threshold, create a new group\n",
    "        if time_diff > pd.Timedelta(time_threshold):\n",
    "            group_id += 1\n",
    "        \n",
    "        group_labels.append(group_id)\n",
    "    \n",
    "    # Add the group labels as a new column in the DataFrame\n",
    "    df['group'] = group_labels\n",
    "\n",
    "    return df\n",
    "    \n",
    "# Example usage\n",
    "data = {\n",
    "    'timestamp': ['2024-01-01 00:00:00', '2024-01-01 00:30:00', \n",
    "                  '2024-01-01 02:00:00', '2024-01-01 02:15:00', \n",
    "                  '2024-01-01 05:00:00'],\n",
    "    'value': [10, 20, 30, 40, 50]\n",
    "}\n",
    "df = pd.DataFrame(data)\n",
    "\n",
    "# Group by time proximity (e.g., within 1 hour)\n",
    "result = group_by_time_proximity(df, 'timestamp', time_threshold='1H')\n",
    "\n",
    "print(result)\n"
   ]
  }
 ],
 "metadata": {
  "kernelspec": {
   "display_name": ".venv",
   "language": "python",
   "name": "python3"
  },
  "language_info": {
   "codemirror_mode": {
    "name": "ipython",
    "version": 3
   },
   "file_extension": ".py",
   "mimetype": "text/x-python",
   "name": "python",
   "nbconvert_exporter": "python",
   "pygments_lexer": "ipython3",
   "version": "3.12.6"
  }
 },
 "nbformat": 4,
 "nbformat_minor": 2
}
